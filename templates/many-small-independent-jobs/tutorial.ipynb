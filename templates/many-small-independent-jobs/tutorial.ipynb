{
 "cells": [
  {
   "cell_type": "markdown",
   "metadata": {},
   "source": [
    "# Tutorial for running many small independent jobs in parallel\n",
    "\n",
    "Let's test it out. First, let's create some data:"
   ]
  },
  {
   "cell_type": "code",
   "execution_count": 5,
   "metadata": {},
   "outputs": [],
   "source": [
    "# Create some dummy data\n",
    "\n",
    "import numpy as np\n",
    "import pickle as pkl\n",
    "\n",
    "rng = np.random.default_rng(12345)\n",
    "\n",
    "N = 100\n",
    "d = 2\n",
    "data = list(rng.normal(size=(N, d)))\n",
    "\n",
    "with open('hpc/run_1/data.pkl', 'wb') as f:\n",
    "    pkl.dump(data, f)"
   ]
  },
  {
   "cell_type": "markdown",
   "metadata": {},
   "source": [
    "Now follow the steps in `README.md` to push the files to the cluster, run computations, and pull the results back to the local machine.\n",
    "\n",
    "Once this is done, we can check that everything behaved correctly with the following block:"
   ]
  },
  {
   "cell_type": "code",
   "execution_count": 2,
   "metadata": {},
   "outputs": [
    {
     "name": "stdout",
     "output_type": "stream",
     "text": [
      "All tests passed!\n"
     ]
    }
   ],
   "source": [
    "# Test the results\n",
    "\n",
    "with open('hpc/run_1/results/results.pkl', 'rb') as f:\n",
    "    results = pkl.load(f)\n",
    "\n",
    "# As it is, the processing script just returns the input data, so we can simply \n",
    "# check that the results are the same as the input data.\n",
    "for i in range(N):\n",
    "    assert np.all(results[i][1] == data[i])\n",
    "\n",
    "print(\"All tests passed!\")"
   ]
  },
  {
   "cell_type": "markdown",
   "metadata": {},
   "source": [
    "### How large should by job array be? And how many tasks per job?\n",
    "\n",
    "This depends on the cluster you are using and the resources available to you. Here is a function that can help estimate how long a job will take (assuming the entire job array gets started at the same time):"
   ]
  },
  {
   "cell_type": "code",
   "execution_count": 3,
   "metadata": {},
   "outputs": [],
   "source": [
    "def estimate_total_time(num_runs, single_run_time, job_array_size, n_tasks_per_job, safety_factor=1.0):\n",
    "    \"\"\"Estimates the amount of time a job will take.\n",
    "    \n",
    "    Parameters\n",
    "    ----------\n",
    "    num_runs : int\n",
    "        Number of independent runs.\n",
    "    single_run_time : float\n",
    "        Time (in seconds) for a single run.\n",
    "    job_array_size : int\n",
    "        Size of the job array\n",
    "    n_tasks_per_job : int\n",
    "        Number of tasks per job.\n",
    "    safety_factor : float\n",
    "    \"\"\"\n",
    "    total_time = num_runs*single_run_time/(job_array_size*n_tasks_per_job)*safety_factor\n",
    "    hours = total_time//3600\n",
    "    minutes = (total_time - hours*3600)//60\n",
    "    seconds = total_time - hours*3600 - minutes*60\n",
    "    print(f'{hours:.0f} hours, {minutes:.0f} minutes, {seconds:.0f} seconds')"
   ]
  },
  {
   "cell_type": "markdown",
   "metadata": {},
   "source": [
    "So, for instance, if I wanted to do 1,000,000 runs where each run takes 3 minutes, and I want to submit a job array of size 400 and with 50 tasks per subjob, I would do the following:"
   ]
  },
  {
   "cell_type": "code",
   "execution_count": 4,
   "metadata": {},
   "outputs": [
    {
     "name": "stdout",
     "output_type": "stream",
     "text": [
      "2 hours, 30 minutes, 0 seconds\n"
     ]
    }
   ],
   "source": [
    "estimate_total_time(\n",
    "    1000000,  # number of runs\n",
    "    180,  # time per run (in seconds)\n",
    "    400,  # job array size\n",
    "    50  # number of tasks per job\n",
    ")"
   ]
  }
 ],
 "metadata": {
  "kernelspec": {
   "display_name": "myenv-2024-01-31",
   "language": "python",
   "name": "python3"
  },
  "language_info": {
   "codemirror_mode": {
    "name": "ipython",
    "version": 3
   },
   "file_extension": ".py",
   "mimetype": "text/x-python",
   "name": "python",
   "nbconvert_exporter": "python",
   "pygments_lexer": "ipython3",
   "version": "3.11.9"
  }
 },
 "nbformat": 4,
 "nbformat_minor": 2
}
