{
 "cells": [
  {
   "cell_type": "code",
   "execution_count": 1,
   "metadata": {},
   "outputs": [],
   "source": [
    "import os\n",
    "from slurm_assist import ManySmallJobs\n",
    "import slurm_assist\n",
    "\n",
    "def save_txt(obj, file_path):\n",
    "    with open(file_path, 'w') as f:\n",
    "        f.write(obj)\n",
    "\n",
    "config_files = [\n",
    "    \"test_many_small_jobs/default_config.yaml\",\n",
    "    \"test_many_small_jobs/run_1_config.yaml\",\n",
    "    \"test_many_small_jobs/run_2_config.yaml\"\n",
    "]\n",
    "\n",
    "def single_run(\n",
    "    id: int,\n",
    "    data: list[str],\n",
    "    results_dir: str\n",
    ") -> list[str]:\n",
    "    message = f\"Hello, world! I am from run id {id}, my data is {data}.\"\n",
    "    results_file = os.path.join(results_dir, f'results_{id}.txt')\n",
    "    save_txt(message, results_file)\n",
    "    return data"
   ]
  },
  {
   "cell_type": "code",
   "execution_count": 2,
   "metadata": {},
   "outputs": [],
   "source": [
    "job = ManySmallJobs(single_run, config_files)"
   ]
  },
  {
   "cell_type": "code",
   "execution_count": 3,
   "metadata": {},
   "outputs": [
    {
     "data": {
      "text/plain": [
       "{'input_data_file': 'test_many_small_jobs/data.txt',\n",
       " 'results_dir': 'test_many_small_jobs/results',\n",
       " 'container_image': 'mpi.sif',\n",
       " 'mpi': 'pmi2',\n",
       " 'main_slurm_args': {'array': '1-10',\n",
       "  'time_limit': '00:20:00',\n",
       "  'memory_per_cpu': '1024M',\n",
       "  'ntasks': 3,\n",
       "  'account': 'standby'},\n",
       " 'merge_slurm_args': {'time_limit': '00:10:00',\n",
       "  'memory_per_cpu': '1024M',\n",
       "  'account': 'standby'},\n",
       " 'main_job_script_args': {'learning_rate': 0.01}}"
      ]
     },
     "execution_count": 3,
     "metadata": {},
     "output_type": "execute_result"
    }
   ],
   "source": [
    "job"
   ]
  },
  {
   "cell_type": "code",
   "execution_count": 4,
   "metadata": {},
   "outputs": [],
   "source": [
    "job.submit()"
   ]
  },
  {
   "cell_type": "code",
   "execution_count": 5,
   "metadata": {},
   "outputs": [
    {
     "data": {
      "text/plain": [
       "39632127"
      ]
     },
     "execution_count": 5,
     "metadata": {},
     "output_type": "execute_result"
    }
   ],
   "source": [
    "job.main_job_id"
   ]
  },
  {
   "cell_type": "code",
   "execution_count": 13,
   "metadata": {},
   "outputs": [
    {
     "data": {
      "text/plain": [
       "['__builtins__',\n",
       " '__cached__',\n",
       " '__doc__',\n",
       " '__file__',\n",
       " '__loader__',\n",
       " '__name__',\n",
       " '__package__',\n",
       " '__path__',\n",
       " '__spec__',\n",
       " 'split_data',\n",
       " 'top_level_interface',\n",
       " 'utils']"
      ]
     },
     "execution_count": 13,
     "metadata": {},
     "output_type": "execute_result"
    }
   ],
   "source": [
    "from slurm_assist import many_small_jobs\n",
    "dir(many_small_jobs)"
   ]
  },
  {
   "cell_type": "code",
   "execution_count": null,
   "metadata": {},
   "outputs": [],
   "source": [
    "job.submit()"
   ]
  },
  {
   "cell_type": "code",
   "execution_count": 2,
   "metadata": {},
   "outputs": [],
   "source": [
    "import pyslurm\n",
    "desc = pyslurm.JobSubmitDescription(\n",
    "    name=\"simple_test\",\n",
    "    account=\"standby\",\n",
    "    nodes=1,\n",
    "    memory_per_cpu=1024,\n",
    "    script=\"simple_job_submission_file\",\n",
    "    script_args=\"hello, world!\"\n",
    ")"
   ]
  },
  {
   "cell_type": "code",
   "execution_count": 4,
   "metadata": {},
   "outputs": [],
   "source": [
    "desc.array"
   ]
  }
 ],
 "metadata": {
  "kernelspec": {
   "display_name": "job-submitter-venv",
   "language": "python",
   "name": "python3"
  },
  "language_info": {
   "codemirror_mode": {
    "name": "ipython",
    "version": 3
   },
   "file_extension": ".py",
   "mimetype": "text/x-python",
   "name": "python",
   "nbconvert_exporter": "python",
   "pygments_lexer": "ipython3",
   "version": "3.11.7"
  }
 },
 "nbformat": 4,
 "nbformat_minor": 2
}
