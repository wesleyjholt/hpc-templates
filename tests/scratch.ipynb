{
 "cells": [
  {
   "cell_type": "code",
   "execution_count": 1,
   "metadata": {},
   "outputs": [],
   "source": [
    "import os\n",
    "from slurm_assist import ManySmallJobs\n",
    "import slurm_assist\n",
    "\n",
    "def save_txt(obj, file_path):\n",
    "    with open(file_path, 'w') as f:\n",
    "        f.write(obj)\n",
    "\n",
    "config_files = [\n",
    "    \"test_many_small_jobs/default_config.yaml\",\n",
    "    \"test_many_small_jobs/run_1_config.yaml\",\n",
    "    \"test_many_small_jobs/run_2_config.yaml\"\n",
    "]"
   ]
  },
  {
   "cell_type": "code",
   "execution_count": 2,
   "metadata": {},
   "outputs": [],
   "source": [
    "job = ManySmallJobs(config_files)"
   ]
  },
  {
   "cell_type": "code",
   "execution_count": 3,
   "metadata": {},
   "outputs": [
    {
     "name": "stdout",
     "output_type": "stream",
     "text": [
      "Temporary file created: /scratch/bell/holtw/slurm-assist/tests/.tmp/tmpmmx04vt_\n",
      "sbatch --array=1-10 --time=00:20:00 --mem-per-cpu=1024M --ntasks=3 --account=standby  /scratch/bell/holtw/slurm-assist/tests/.tmp/tmpmmx04vt_\n",
      "Submitted batch job 39642090\n",
      "\n",
      "Temporary file created: /scratch/bell/holtw/slurm-assist/tests/.tmp/tmpmx8j1yek\n",
      "sbatch --time=00:10:00 --memory-per-cpu=1024M --account=standby --dependency=afterok:(39642090, '/scratch/bell/holtw/slurm-assist/tests/.tmp/tmpmmx04vt_')  /scratch/bell/holtw/slurm-assist/tests/.tmp/tmpmx8j1yek\n",
      "/bin/sh: -c: line 0: syntax error near unexpected token `('\n",
      "/bin/sh: -c: line 0: `sbatch --time=00:10:00 --memory-per-cpu=1024M --account=standby --dependency=afterok:(39642090, '/scratch/bell/holtw/slurm-assist/tests/.tmp/tmpmmx04vt_')  /scratch/bell/holtw/slurm-assist/tests/.tmp/tmpmx8j1yek'\n",
      "\n",
      "\n"
     ]
    },
    {
     "ename": "IndexError",
     "evalue": "list index out of range",
     "output_type": "error",
     "traceback": [
      "\u001b[0;31m---------------------------------------------------------------------------\u001b[0m",
      "\u001b[0;31mIndexError\u001b[0m                                Traceback (most recent call last)",
      "Cell \u001b[0;32mIn[3], line 1\u001b[0m\n\u001b[0;32m----> 1\u001b[0m \u001b[43mjob\u001b[49m\u001b[38;5;241;43m.\u001b[39;49m\u001b[43msubmit\u001b[49m\u001b[43m(\u001b[49m\u001b[43m)\u001b[49m\n",
      "File \u001b[0;32m/scratch/bell/holtw/slurm-assist/src/slurm_assist/many_small_jobs/top_level_interface.py:196\u001b[0m, in \u001b[0;36mManySmallJobs.submit\u001b[0;34m(self)\u001b[0m\n\u001b[1;32m    194\u001b[0m \u001b[38;5;28;01mdef\u001b[39;00m \u001b[38;5;21msubmit\u001b[39m(\u001b[38;5;28mself\u001b[39m):\n\u001b[1;32m    195\u001b[0m     \u001b[38;5;28mself\u001b[39m\u001b[38;5;241m.\u001b[39msubmit_main()\n\u001b[0;32m--> 196\u001b[0m     \u001b[38;5;28;43mself\u001b[39;49m\u001b[38;5;241;43m.\u001b[39;49m\u001b[43msubmit_merge\u001b[49m\u001b[43m(\u001b[49m\u001b[43mdependency_id\u001b[49m\u001b[38;5;241;43m=\u001b[39;49m\u001b[38;5;28;43mself\u001b[39;49m\u001b[38;5;241;43m.\u001b[39;49m\u001b[43mmain_job_id\u001b[49m\u001b[43m)\u001b[49m\n",
      "File \u001b[0;32m/scratch/bell/holtw/slurm-assist/src/slurm_assist/many_small_jobs/top_level_interface.py:192\u001b[0m, in \u001b[0;36mManySmallJobs.submit_merge\u001b[0;34m(self, dependency_id)\u001b[0m\n\u001b[1;32m    190\u001b[0m \u001b[38;5;28;01melse\u001b[39;00m:\n\u001b[1;32m    191\u001b[0m     slurm_args \u001b[38;5;241m=\u001b[39m \u001b[38;5;28mself\u001b[39m[\u001b[38;5;124m'\u001b[39m\u001b[38;5;124mmerge_slurm_args\u001b[39m\u001b[38;5;124m'\u001b[39m]\n\u001b[0;32m--> 192\u001b[0m \u001b[38;5;28mself\u001b[39m\u001b[38;5;241m.\u001b[39mmerge_job_id \u001b[38;5;241m=\u001b[39m \u001b[43msubmit_slurm_job\u001b[49m\u001b[43m(\u001b[49m\u001b[43mslurm_args\u001b[49m\u001b[38;5;241;43m=\u001b[39;49m\u001b[43mslurm_args\u001b[49m\u001b[43m,\u001b[49m\u001b[43m \u001b[49m\u001b[43mjob_script\u001b[49m\u001b[38;5;241;43m=\u001b[39;49m\u001b[38;5;28;43mself\u001b[39;49m\u001b[38;5;241;43m.\u001b[39;49m\u001b[43mmerge_job_script\u001b[49m\u001b[43m)\u001b[49m\n",
      "File \u001b[0;32m/scratch/bell/holtw/slurm-assist/src/slurm_assist/many_small_jobs/utils.py:195\u001b[0m, in \u001b[0;36msubmit_slurm_job\u001b[0;34m(slurm_args, job_script, verbose)\u001b[0m\n\u001b[1;32m    193\u001b[0m \u001b[38;5;28;01mif\u001b[39;00m verbose:\n\u001b[1;32m    194\u001b[0m     \u001b[38;5;28mprint\u001b[39m(output\u001b[38;5;241m.\u001b[39mstdout)\n\u001b[0;32m--> 195\u001b[0m job_id \u001b[38;5;241m=\u001b[39m \u001b[38;5;28mint\u001b[39m(\u001b[43moutput\u001b[49m\u001b[38;5;241;43m.\u001b[39;49m\u001b[43mstdout\u001b[49m\u001b[38;5;241;43m.\u001b[39;49m\u001b[43msplit\u001b[49m\u001b[43m(\u001b[49m\u001b[43m)\u001b[49m\u001b[43m[\u001b[49m\u001b[38;5;241;43m-\u001b[39;49m\u001b[38;5;241;43m1\u001b[39;49m\u001b[43m]\u001b[49m)\n\u001b[1;32m    196\u001b[0m \u001b[38;5;28;01mreturn\u001b[39;00m job_id, tmp_file\n",
      "\u001b[0;31mIndexError\u001b[0m: list index out of range"
     ]
    }
   ],
   "source": [
    "job.submit()"
   ]
  },
  {
   "cell_type": "code",
   "execution_count": 4,
   "metadata": {},
   "outputs": [
    {
     "data": {
      "text/plain": [
       "pyslurm.Job(39636874)"
      ]
     },
     "execution_count": 4,
     "metadata": {},
     "output_type": "execute_result"
    }
   ],
   "source": [
    "job.main_job"
   ]
  },
  {
   "cell_type": "code",
   "execution_count": 13,
   "metadata": {},
   "outputs": [
    {
     "data": {
      "text/plain": [
       "['__builtins__',\n",
       " '__cached__',\n",
       " '__doc__',\n",
       " '__file__',\n",
       " '__loader__',\n",
       " '__name__',\n",
       " '__package__',\n",
       " '__path__',\n",
       " '__spec__',\n",
       " 'split_data',\n",
       " 'top_level_interface',\n",
       " 'utils']"
      ]
     },
     "execution_count": 13,
     "metadata": {},
     "output_type": "execute_result"
    }
   ],
   "source": [
    "from slurm_assist import many_small_jobs\n",
    "dir(many_small_jobs)"
   ]
  },
  {
   "cell_type": "code",
   "execution_count": null,
   "metadata": {},
   "outputs": [],
   "source": [
    "job.submit()"
   ]
  },
  {
   "cell_type": "code",
   "execution_count": 5,
   "metadata": {},
   "outputs": [
    {
     "data": {
      "text/plain": [
       "39636896"
      ]
     },
     "execution_count": 5,
     "metadata": {},
     "output_type": "execute_result"
    }
   ],
   "source": [
    "from submit_hello_world import desc\n",
    "desc.submit()"
   ]
  },
  {
   "cell_type": "code",
   "execution_count": 8,
   "metadata": {},
   "outputs": [
    {
     "name": "stdout",
     "output_type": "stream",
     "text": [
      "#!/bin/sh -l\n",
      "# FILENAME:  simple_job_submission_file\n",
      "\n",
      "#SBATCH -A myqueuename\n",
      "#SBATCH --nodes=1 \n",
      "#SBATCH --time=0:30:00\n",
      "#SBATCH --job-name simple_test\n",
      "\n",
      "# Print the hostname of the compute node on which this job is running.\n",
      "/bin/hostname\n",
      "\n",
      "srun --mpi=pmi2 apptainer run mpi.sif hello-world.py\n",
      "\n"
     ]
    }
   ],
   "source": [
    "print(desc.script)"
   ]
  },
  {
   "cell_type": "code",
   "execution_count": 6,
   "metadata": {},
   "outputs": [
    {
     "name": "stdout",
     "output_type": "stream",
     "text": [
      "Submitted batch job 39641979\n"
     ]
    },
    {
     "data": {
      "text/plain": [
       "CompletedProcess(args='sbatch --account standby <<EOF\\n#!/bin/bash -l\\n# FILENAME:  simple_job_submission_file\\n\\n#SBATCH -A myqueuename\\n#SBATCH --nodes=1 \\n#SBATCH --time=0:10:00\\n#SBATCH --job-name simple_test\\n\\nmodule purge\\n\\n# Print the hostname of the compute node on which this job is running.\\n/bin/hostname\\n\\nsrun --mpi=pmi2 apptainer run mpi.sif hello-world.py\\nEOF\\n', returncode=0)"
      ]
     },
     "execution_count": 6,
     "metadata": {},
     "output_type": "execute_result"
    }
   ],
   "source": [
    "import subprocess\n",
    "\n",
    "script=\"\"\"sbatch --account standby <<EOF\n",
    "#!/bin/bash -l\n",
    "# FILENAME:  simple_job_submission_file\n",
    "\n",
    "#SBATCH -A myqueuename\n",
    "#SBATCH --nodes=1 \n",
    "#SBATCH --time=0:10:00\n",
    "#SBATCH --job-name simple_test\n",
    "\n",
    "module purge\n",
    "\n",
    "# Print the hostname of the compute node on which this job is running.\n",
    "/bin/hostname\n",
    "\n",
    "srun --mpi=pmi2 apptainer run mpi.sif hello-world.py\n",
    "EOF\n",
    "\"\"\"\n",
    "\n",
    "# TODO: I finally figured it out! I need to ass the environment variables to subprocess.run\n",
    "\n",
    "my_env = os.environ.copy()\n",
    "subprocess.run(script, shell=True, env=my_env)\n",
    "# os.system(script)\n",
    "\n",
    "\n",
    "# desc = pyslurm.JobSubmitDescription(\n",
    "#     name=\"simple_test\",\n",
    "#     account=\"standby\",\n",
    "#     nodes=1,\n",
    "#     memory_per_cpu=1024,\n",
    "#     script=script\n",
    "# )"
   ]
  },
  {
   "cell_type": "code",
   "execution_count": 11,
   "metadata": {},
   "outputs": [
    {
     "name": "stderr",
     "output_type": "stream",
     "text": [
      "mktemp: failed to create file via template ‘./.tmp/mytmpfile.XXXXXX)’: No such file or directory\n"
     ]
    }
   ],
   "source": [
    "res = subprocess.run(['mktemp', './.tmp/mytmpfile.XXXXXX)'])\n",
    "res.stdout"
   ]
  },
  {
   "cell_type": "code",
   "execution_count": 13,
   "metadata": {},
   "outputs": [
    {
     "data": {
      "text/plain": [
       "39636717"
      ]
     },
     "execution_count": 13,
     "metadata": {},
     "output_type": "execute_result"
    }
   ],
   "source": [
    "desc.submit()"
   ]
  }
 ],
 "metadata": {
  "kernelspec": {
   "display_name": "job-submitter-venv",
   "language": "python",
   "name": "python3"
  },
  "language_info": {
   "codemirror_mode": {
    "name": "ipython",
    "version": 3
   },
   "file_extension": ".py",
   "mimetype": "text/x-python",
   "name": "python",
   "nbconvert_exporter": "python",
   "pygments_lexer": "ipython3",
   "version": "3.11.7"
  }
 },
 "nbformat": 4,
 "nbformat_minor": 2
}
