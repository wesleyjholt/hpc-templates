{
 "cells": [
  {
   "cell_type": "code",
   "execution_count": 1,
   "metadata": {},
   "outputs": [],
   "source": [
    "import os\n",
    "from slurm_assist import ManySmallJobs\n",
    "\n",
    "def save_txt(obj, file_path):\n",
    "    with open(file_path, 'w') as f:\n",
    "        f.write(obj)\n",
    "\n",
    "config_files = [\n",
    "    \"test_many_small_jobs/default_config.yaml\",\n",
    "    \"test_many_small_jobs/run_1_config.yaml\",\n",
    "    \"test_many_small_jobs/run_2_config.yaml\"\n",
    "]\n",
    "\n",
    "def single_run(\n",
    "    id: int,\n",
    "    data: list,\n",
    "    results_dir: str\n",
    "):\n",
    "    message = f\"Hello, world! I am from run id {id}, my data is {data}.\"\n",
    "    results_file = os.path.join(results_dir, f'results_{id}.txt')\n",
    "    save_txt(message, results_file)\n",
    "    return data\n",
    "\n",
    "job = ManySmallJobs(single_run, config_files)"
   ]
  },
  {
   "cell_type": "code",
   "execution_count": null,
   "metadata": {},
   "outputs": [],
   "source": [
    "job.submit()"
   ]
  },
  {
   "cell_type": "code",
   "execution_count": 2,
   "metadata": {},
   "outputs": [],
   "source": [
    "import pyslurm\n",
    "desc = pyslurm.JobSubmitDescription(\n",
    "    name=\"simple_test\",\n",
    "    account=\"standby\",\n",
    "    nodes=1,\n",
    "    memory_per_cpu=1024,\n",
    "    script=\"simple_job_submission_file\",\n",
    "    script_args=\"hello, world!\"\n",
    ")"
   ]
  },
  {
   "cell_type": "code",
   "execution_count": 4,
   "metadata": {},
   "outputs": [],
   "source": [
    "desc.array"
   ]
  }
 ],
 "metadata": {
  "kernelspec": {
   "display_name": "job-submitter-venv",
   "language": "python",
   "name": "python3"
  },
  "language_info": {
   "codemirror_mode": {
    "name": "ipython",
    "version": 3
   },
   "file_extension": ".py",
   "mimetype": "text/x-python",
   "name": "python",
   "nbconvert_exporter": "python",
   "pygments_lexer": "ipython3",
   "version": "3.11.7"
  }
 },
 "nbformat": 4,
 "nbformat_minor": 2
}
