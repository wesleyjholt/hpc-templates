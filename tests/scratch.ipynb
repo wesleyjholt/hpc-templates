{
 "cells": [
  {
   "cell_type": "code",
   "execution_count": 1,
   "metadata": {},
   "outputs": [],
   "source": [
    "import pyslurm\n",
    "desc = pyslurm.JobSubmitDescription(\n",
    "    name=\"simple_test\",\n",
    "    account=\"standby\",\n",
    "    nodes=1,\n",
    "    memory_per_cpu=1024,\n",
    "    script=\"simple_job_submission_file\",\n",
    "    script_args=\"hello, world!\"\n",
    ")"
   ]
  },
  {
   "cell_type": "code",
   "execution_count": 5,
   "metadata": {},
   "outputs": [],
   "source": [
    "desc.dependencies"
   ]
  }
 ],
 "metadata": {
  "kernelspec": {
   "display_name": "job-submitter-venv",
   "language": "python",
   "name": "python3"
  },
  "language_info": {
   "codemirror_mode": {
    "name": "ipython",
    "version": 3
   },
   "file_extension": ".py",
   "mimetype": "text/x-python",
   "name": "python",
   "nbconvert_exporter": "python",
   "pygments_lexer": "ipython3",
   "version": "3.11.7"
  }
 },
 "nbformat": 4,
 "nbformat_minor": 2
}
