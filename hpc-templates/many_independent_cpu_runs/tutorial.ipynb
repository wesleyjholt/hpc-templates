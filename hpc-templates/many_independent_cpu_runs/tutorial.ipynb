{
 "cells": [
  {
   "cell_type": "markdown",
   "metadata": {},
   "source": [
    "# Tutorial\n",
    "\n",
    "Create some input data:"
   ]
  },
  {
   "cell_type": "code",
   "execution_count": 1,
   "metadata": {},
   "outputs": [],
   "source": [
    "import numpy as np\n",
    "import pickle as pkl\n",
    "\n",
    "rng = np.random.default_rng(12345)\n",
    "\n",
    "N = 100\n",
    "d = 2\n",
    "data = list(rng.normal(size=(N, d)))\n",
    "\n",
    "with open('input_data.pkl', 'wb') as f:\n",
    "    pkl.dump(data, f)"
   ]
  },
  {
   "cell_type": "markdown",
   "metadata": {},
   "source": [
    "Run the processing on the cluster and save the results file.\n",
    "\n",
    "Now open the results file and compare with the expected output:"
   ]
  },
  {
   "cell_type": "code",
   "execution_count": 2,
   "metadata": {},
   "outputs": [
    {
     "name": "stdout",
     "output_type": "stream",
     "text": [
      "All tests passed!\n"
     ]
    }
   ],
   "source": [
    "with open('results.pkl', 'rb') as f:\n",
    "    results = pkl.load(f)\n",
    "\n",
    "# As it is, the processing script just returns the input data, so we can simply \n",
    "# check that the results are the same as the input data.\n",
    "for i in range(N):\n",
    "    assert np.all(results[i][1] == data[i])\n",
    "\n",
    "print(\"All tests passed!\")"
   ]
  },
  {
   "cell_type": "code",
   "execution_count": null,
   "metadata": {},
   "outputs": [],
   "source": []
  }
 ],
 "metadata": {
  "kernelspec": {
   "display_name": "myenv-2024-01-31",
   "language": "python",
   "name": "python3"
  },
  "language_info": {
   "codemirror_mode": {
    "name": "ipython",
    "version": 3
   },
   "file_extension": ".py",
   "mimetype": "text/x-python",
   "name": "python",
   "nbconvert_exporter": "python",
   "pygments_lexer": "ipython3",
   "version": "3.11.6"
  }
 },
 "nbformat": 4,
 "nbformat_minor": 2
}
