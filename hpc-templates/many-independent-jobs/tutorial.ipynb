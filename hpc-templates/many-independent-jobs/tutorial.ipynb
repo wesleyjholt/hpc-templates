{
 "cells": [
  {
   "cell_type": "markdown",
   "metadata": {},
   "source": [
    "# Tutorial for running many independent jobs in parallel\n",
    "\n",
    "### 1. Create some input data"
   ]
  },
  {
   "cell_type": "code",
   "execution_count": 1,
   "metadata": {},
   "outputs": [],
   "source": [
    "import numpy as np\n",
    "import pickle as pkl\n",
    "\n",
    "rng = np.random.default_rng(12345)\n",
    "\n",
    "N = 100\n",
    "d = 2\n",
    "data = list(rng.normal(size=(N, d)))\n",
    "\n",
    "with open('hpc/run_1/data.pkl', 'wb') as f:\n",
    "    pkl.dump(data, f)"
   ]
  },
  {
   "cell_type": "markdown",
   "metadata": {},
   "source": [
    "### 2. Run processing on remote cluster\n",
    "\n",
    "For example, to run on Bell cluster:\n",
    "\n",
    "1. Fill in `hpc/config.sh` with the correct values. \n",
    "\n",
    "    - Optional: Add a `hpc-ignore` file to the parent directory to avoid moving unwanted files/directories to the cluster.\n",
    "\n",
    "2. Run the following commands:"
   ]
  },
  {
   "cell_type": "markdown",
   "metadata": {},
   "source": [
    "```bash\n",
    "./hpc/push_to_remote.sh  # Put files onto the cluster\n",
    "ssh <username>@<cluster>.rcac.purdue.edu  # Log into cluster\n",
    "cd /scratch/<cluster>/<username>/<project_name>/v<version>  # These values are pulled from hpc/config.sh\n",
    "source hpc/submit.sh <run_name>  # This will submit the job to the cluster. Example for run_name could be \"run_1\"\n",
    "```\n",
    "\n"
   ]
  },
  {
   "cell_type": "markdown",
   "metadata": {},
   "source": [
    "3. Wait for the job(s) to finish.\n",
    "\n",
    "4. Pull the results back to your local machine:\n"
   ]
  },
  {
   "cell_type": "markdown",
   "metadata": {},
   "source": [
    "```bash\n",
    "# (From your local machine)\n",
    "./hpc/pull_from_remote.sh <run_name>\n",
    "```"
   ]
  },
  {
   "cell_type": "markdown",
   "metadata": {},
   "source": [
    "And that's it! Now open the results file and compare with the expected output:"
   ]
  },
  {
   "cell_type": "code",
   "execution_count": 3,
   "metadata": {},
   "outputs": [
    {
     "name": "stdout",
     "output_type": "stream",
     "text": [
      "All tests passed!\n"
     ]
    }
   ],
   "source": [
    "with open('hpc/run_1/results.pkl', 'rb') as f:\n",
    "    results = pkl.load(f)\n",
    "\n",
    "# As it is, the processing script just returns the input data, so we can simply \n",
    "# check that the results are the same as the input data.\n",
    "for i in range(N):\n",
    "    assert np.all(results[i][1] == data[i])\n",
    "\n",
    "print(\"All tests passed!\")"
   ]
  }
 ],
 "metadata": {
  "kernelspec": {
   "display_name": "myenv-2024-01-31",
   "language": "python",
   "name": "python3"
  },
  "language_info": {
   "codemirror_mode": {
    "name": "ipython",
    "version": 3
   },
   "file_extension": ".py",
   "mimetype": "text/x-python",
   "name": "python",
   "nbconvert_exporter": "python",
   "pygments_lexer": "ipython3",
   "version": "3.11.9"
  }
 },
 "nbformat": 4,
 "nbformat_minor": 2
}
